{
 "cells": [
  {
   "cell_type": "code",
   "execution_count": 4,
   "id": "ec2c8d3e",
   "metadata": {},
   "outputs": [
    {
     "name": "stdout",
     "output_type": "stream",
     "text": [
      "      mpg  zylinder   ps  gewicht  beschleunigung  baujahr\n",
      "0    18.0         8  130     3504            12.0       70\n",
      "1    15.0         8  165     3693            11.5       70\n",
      "2    18.0         8  150     3436            11.0       70\n",
      "3    16.0         8  150     3433            12.0       70\n",
      "4    17.0         8  140     3449            10.5       70\n",
      "..    ...       ...  ...      ...             ...      ...\n",
      "388  27.0         4   90     2950            17.3       82\n",
      "389  27.0         4   86     2790            15.6       82\n",
      "390  44.0         4   52     2130            24.6       82\n",
      "391  32.0         4   84     2295            11.6       82\n",
      "392  28.0         4   79     2625            18.6       82\n",
      "\n",
      "[393 rows x 6 columns]\n"
     ]
    }
   ],
   "source": [
    "from sklearn.linear_model import LinearRegression\n",
    "from sklearn.model_selection import train_test_split\n",
    "#from sklearn.preprocessing import MinMaxScaler\n",
    "#from sklearn.preprocessing import PolynomialFeatures\n",
    "#import matplotlib.pyplot as plt\n",
    "#import random\n",
    "#from time import time\n",
    "#import numpy as np\n",
    "import pandas as pd\n",
    "#from matplotlib import cm\n",
    "#from mpl_toolkits.mplot3d import Axes3D\n",
    "import pickle\n",
    "\n",
    "# %matplotlib inline\n",
    "\n",
    "\n",
    "def rmse(y_pred, y):\n",
    "    return np.sqrt(np.mean((y_pred-y)**2))\n",
    "\n",
    "\n",
    "# name=True bedeutet, dass Header als solche gespeichert werden.\n",
    "# auto_array[i] gibt alle Attribute der iten Instanz, auto_array[\"attribut\"] gibt \"attribut\" aller Instanzen raus.\n",
    "#auto_array = np.genfromtxt('../data/auto-mpg.csv', dtype=float, delimiter=\";\", names=True)\n",
    "data = pd.read_csv('../data/auto-mpg.csv', sep=\";\")\n",
    "\n",
    "print(data)\n",
    "\n",
    "# Daten vermischen. \"n =\" gibt an, wieviele Reihen abgefragt werden sollen, oder \"frac = \" gibt an, welcher Anteil an allen Reihen abgefragt werden soll.\n",
    "data = data.sample(frac=1)\n",
    "\n",
    "# 'class'-Spalte\n",
    "y_variable = data['mpg']\n",
    "\n",
    "# Alle Spalten, die nicht in der 'class'-Spalte sind -> alle Spalten, die die Attribute enthalten. Man kann loc[:,'attributname'], rausgeben lassen, oder loc[index,:]\n",
    "x_variables = data.loc[:, data.columns != 'mpg']\n",
    "\n",
    "x_train, x_test, y_train, y_test = train_test_split(\n",
    "    x_variables, y_variable, test_size=0.2)\n",
    "\n",
    "regressor = LinearRegression()\n",
    "\n",
    "regressor = regressor.fit(x_train, y_train)\n",
    "\n",
    "y_pred = regressor.predict(x_test)\n",
    "\n",
    "#wb: öffnen für writing und im Binärmodus\n",
    "file_to_write = open(\"../data/models/baummethoden_lr.pickle\", \"wb\")\n",
    "pickle.dump(regressor, file_to_write)\n"
   ]
  },
  {
   "cell_type": "code",
   "execution_count": 13,
   "id": "d5a8be51",
   "metadata": {},
   "outputs": [
    {
     "name": "stdout",
     "output_type": "stream",
     "text": [
      "Geben Sie die Anzahl der Zylinder ein: 8\n",
      "Geben Sie die Leistung in PS an: 130\n",
      "Geben Sie die Masse in kg an: 3504\n",
      "Geben Sie die Beschleunigung in 100 km/h/s an: 12\n",
      "Geben Sie das Baujahr an: 70\n",
      "[14.682519]\n"
     ]
    }
   ],
   "source": [
    "file_to_open = open(\"../data/models/baummethoden_lr.pickle\", 'rb')\n",
    "trained_model = pickle.load(file_to_open)\n",
    "file_to_open.close()\n",
    "\n",
    "# Lade Daten, für die wir Vorhersagen wollen\n",
    "prediction_data = pd.read_csv('../data/auto-mpg.csv', sep=\";\")\n",
    "\n",
    "#print(trained_model.predict(prediction_data.loc[:, prediction_data.columns != 'mpg']))\n",
    "\n",
    "auto = [None]*5\n",
    "\n",
    "auto[0] = int(input(\"Geben Sie die Anzahl der Zylinder ein: \"))\n",
    "auto[1] = float(input(\"Geben Sie die Leistung in PS an: \"))\n",
    "auto[2] = float(input(\"Geben Sie die Masse in kg an: \"))\n",
    "auto[3] = float(input(\"Geben Sie die Beschleunigung in 100 km/h/s an: \"))\n",
    "auto[4] = int(input(\"Geben Sie das Baujahr an: \"))\n",
    "\n",
    "print(trained_model.predict([auto]))\n"
   ]
  },
  {
   "cell_type": "code",
   "execution_count": 12,
   "id": "99de585e",
   "metadata": {},
   "outputs": [
    {
     "name": "stdout",
     "output_type": "stream",
     "text": [
      "[15.5291376]\n"
     ]
    }
   ],
   "source": [
    "print(trained_model.predict([auto]))\n"
   ]
  }
 ],
 "metadata": {
  "kernelspec": {
   "display_name": "Python 3 (ipykernel)",
   "language": "python",
   "name": "python3"
  },
  "language_info": {
   "codemirror_mode": {
    "name": "ipython",
    "version": 3
   },
   "file_extension": ".py",
   "mimetype": "text/x-python",
   "name": "python",
   "nbconvert_exporter": "python",
   "pygments_lexer": "ipython3",
   "version": "3.9.7"
  }
 },
 "nbformat": 4,
 "nbformat_minor": 5
}
